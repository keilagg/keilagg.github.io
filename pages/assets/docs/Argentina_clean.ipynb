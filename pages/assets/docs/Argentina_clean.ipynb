{
 "cells": [
  {
   "cell_type": "code",
   "execution_count": 2,
   "metadata": {},
   "outputs": [],
   "source": [
    "#import\n",
    "import pandas as pd\n",
    "import numpy as np\n",
    "import geocoder "
   ]
  },
  {
   "cell_type": "code",
   "execution_count": 6,
   "metadata": {},
   "outputs": [],
   "source": [
    "#read file\n",
    "df = pd.read_csv(\"file_name.csv\")"
   ]
  },
  {
   "cell_type": "code",
   "execution_count": 110,
   "metadata": {
    "scrolled": true
   },
   "outputs": [],
   "source": [
    "#drop all null values\n",
    "file_name.dropna(inplace = True)"
   ]
  },
  {
   "cell_type": "code",
   "execution_count": 7,
   "metadata": {},
   "outputs": [],
   "source": [
    "#inspect shape\n",
    "file_name.shape"
   ]
  },
  {
   "cell_type": "code",
   "execution_count": 8,
   "metadata": {},
   "outputs": [],
   "source": [
    "#inspect first and last rows\n",
    "file_name.head()\n",
    "file_name.tail()"
   ]
  },
  {
   "cell_type": "code",
   "execution_count": 113,
   "metadata": {},
   "outputs": [],
   "source": [
    "#change column names\n",
    "file_name.rename(columns={'NAME':'name', 'ZONA GEOGRAFICA':'Ciudad'}, inplace = True)"
   ]
  },
  {
   "cell_type": "code",
   "execution_count": 9,
   "metadata": {},
   "outputs": [],
   "source": [
    "#further inspect particular field\n",
    "file_name[\"field\"].value_counts()"
   ]
  },
  {
   "cell_type": "code",
   "execution_count": 73,
   "metadata": {},
   "outputs": [],
   "source": [
    "#prepare fields for geocoding\n",
    "argentina[\"Ciudad\"]= argentina[\"Ciudad\"].str.replace('Buenos Aires ', \"Buenos Aires, Argentina\", case = False)"
   ]
  },
  {
   "cell_type": "code",
   "execution_count": 122,
   "metadata": {
    "scrolled": true
   },
   "outputs": [
    {
     "data": {
      "text/plain": [
       "Index(['Buenos Aires, Argentina', 'Santiago del Estero, Argentina',\n",
       "       'Córdoba, Argentina', 'Chaco, Argentina', 'Santa Fe, Argentina',\n",
       "       'Corrientes, Argentina', 'Mar del Plata, Argentina',\n",
       "       'Salta, Argentina'],\n",
       "      dtype='object')"
      ]
     },
     "execution_count": 122,
     "metadata": {},
     "output_type": "execute_result"
    }
   ],
   "source": [
    "#further inspect particular field\n",
    "file_name[\"Ciudad\"].value_counts().index"
   ]
  },
  {
   "cell_type": "code",
   "execution_count": 118,
   "metadata": {},
   "outputs": [],
   "source": [
    "#create geocoding function\n",
    "pais = file_name\n",
    "def ciudadClean(ciudad):\n",
    "    ciudad = ciudad.strip()\n",
    "    if pais not in ciudad:\n",
    "        ciudad = ciudad + \", \" + pais\n",
    "    return ciudad   "
   ]
  },
  {
   "cell_type": "code",
   "execution_count": 119,
   "metadata": {},
   "outputs": [],
   "source": [
    "#apply function\n",
    "file_name[\"Ciudad\"]= argentina[\"Ciudad\"].apply(ciudadClean)"
   ]
  },
  {
   "cell_type": "code",
   "execution_count": 128,
   "metadata": {},
   "outputs": [],
   "source": [
    "#geocode\n",
    "file_name[\"geocoder\"] = argentina[\"Ciudad\"].apply(geocoder.osm)"
   ]
  },
  {
   "cell_type": "code",
   "execution_count": 140,
   "metadata": {},
   "outputs": [],
   "source": [
    "#get lat\n",
    "def ciudadLat(geocoder):\n",
    "    lat = geocoder.lat\n",
    "    return lat   "
   ]
  },
  {
   "cell_type": "code",
   "execution_count": 145,
   "metadata": {},
   "outputs": [],
   "source": [
    "#get long\n",
    "def ciudadLng(geocoder):\n",
    "    lng = geocoder.lng\n",
    "    return lng"
   ]
  },
  {
   "cell_type": "code",
   "execution_count": 141,
   "metadata": {},
   "outputs": [],
   "source": [
    "file_name\"lat\"] = file_name[\"geocoder\"].apply(ciudadLat)"
   ]
  },
  {
   "cell_type": "code",
   "execution_count": 146,
   "metadata": {},
   "outputs": [],
   "source": [
    "file_name[\"lng\"] = file_name[\"geocoder\"].apply(ciudadLng)"
   ]
  },
  {
   "cell_type": "code",
   "execution_count": 149,
   "metadata": {},
   "outputs": [],
   "source": [
    "file_name.to_csv(\"file_name_clean.csv\", index=False)"
   ]
  }
 ],
 "metadata": {
  "kernelspec": {
   "display_name": "Python 3",
   "language": "python",
   "name": "python3"
  }
 },
 "nbformat": 4,
 "nbformat_minor": 4
}
