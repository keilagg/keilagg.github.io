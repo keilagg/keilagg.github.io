{
 "cells": [
  {
   "cell_type": "code",
   "execution_count": 2,
   "metadata": {},
   "outputs": [],
   "source": [
    "#import\n",
    "import pandas as pd\n",
    "import numpy as np\n",
    "import geocoder "
   ]
  },
  {
   "cell_type": "code",
   "execution_count": 6,
   "metadata": {},
   "outputs": [],
   "source": [
    "df = pd.read_csv(\"file_name.csv\")"
   ]
  },
  {
   "cell_type": "code",
   "execution_count": 110,
   "metadata": {
    "scrolled": true
   },
   "outputs": [],
   "source": [
    "file_name.dropna(inplace = True)"
   ]
  },
  {
   "cell_type": "code",
   "execution_count": 111,
   "metadata": {},
   "outputs": [
    {
     "data": {
      "text/plain": [
       "(45, 3)"
      ]
     },
     "execution_count": 111,
     "metadata": {},
     "output_type": "execute_result"
    }
   ],
   "source": [
    "file_name.shape"
   ]
  },
  {
   "cell_type": "code",
   "execution_count": 150,
   "metadata": {},
   "outputs": [
    {
     "data": {
      "text/html": [
       "<div>\n",
       "<style scoped>\n",
       "    .dataframe tbody tr th:only-of-type {\n",
       "        vertical-align: middle;\n",
       "    }\n",
       "\n",
       "    .dataframe tbody tr th {\n",
       "        vertical-align: top;\n",
       "    }\n",
       "\n",
       "    .dataframe thead th {\n",
       "        text-align: right;\n",
       "    }\n",
       "</style>\n",
       "<table border=\"1\" class=\"dataframe\">\n",
       "  <thead>\n",
       "    <tr style=\"text-align: right;\">\n",
       "      <th></th>\n",
       "      <th>Org</th>\n",
       "      <th>Tipo_org</th>\n",
       "      <th>Ciudad</th>\n",
       "      <th>geocoder</th>\n",
       "      <th>lat</th>\n",
       "      <th>lng</th>\n",
       "    </tr>\n",
       "  </thead>\n",
       "  <tbody>\n",
       "    <tr>\n",
       "      <th>0</th>\n",
       "      <td>Asociación de Residentes Senegaleses en Argent...</td>\n",
       "      <td>Mixta</td>\n",
       "      <td>Buenos Aires, Argentina</td>\n",
       "      <td>[[Ciudad Autónoma de Buenos Aires, Comuna 6, A...</td>\n",
       "      <td>-34.607568</td>\n",
       "      <td>-58.437089</td>\n",
       "    </tr>\n",
       "    <tr>\n",
       "      <th>1</th>\n",
       "      <td>Asociación de Mujeres Senegalesas oriundas de ...</td>\n",
       "      <td>Mixta</td>\n",
       "      <td>Buenos Aires, Argentina</td>\n",
       "      <td>[[Ciudad Autónoma de Buenos Aires, Comuna 6, A...</td>\n",
       "      <td>-34.607568</td>\n",
       "      <td>-58.437089</td>\n",
       "    </tr>\n",
       "    <tr>\n",
       "      <th>4</th>\n",
       "      <td>Asociación de Nigerianos en el Río de la Plata,</td>\n",
       "      <td>Mixta</td>\n",
       "      <td>Buenos Aires, Argentina</td>\n",
       "      <td>[[Ciudad Autónoma de Buenos Aires, Comuna 6, A...</td>\n",
       "      <td>-34.607568</td>\n",
       "      <td>-58.437089</td>\n",
       "    </tr>\n",
       "    <tr>\n",
       "      <th>5</th>\n",
       "      <td>Asociación de Amigos de las Islas de Cabo Verde</td>\n",
       "      <td>Mixta</td>\n",
       "      <td>Buenos Aires, Argentina</td>\n",
       "      <td>[[Ciudad Autónoma de Buenos Aires, Comuna 6, A...</td>\n",
       "      <td>-34.607568</td>\n",
       "      <td>-58.437089</td>\n",
       "    </tr>\n",
       "    <tr>\n",
       "      <th>6</th>\n",
       "      <td>Asociación de Mujeres Afrodescendientes en la ...</td>\n",
       "      <td>Feminista</td>\n",
       "      <td>Buenos Aires, Argentina</td>\n",
       "      <td>[[Ciudad Autónoma de Buenos Aires, Comuna 6, A...</td>\n",
       "      <td>-34.607568</td>\n",
       "      <td>-58.437089</td>\n",
       "    </tr>\n",
       "  </tbody>\n",
       "</table>\n",
       "</div>"
      ],
      "text/plain": [
       "                                                 Org    Tipo_org  \\\n",
       "0  Asociación de Residentes Senegaleses en Argent...       Mixta   \n",
       "1  Asociación de Mujeres Senegalesas oriundas de ...       Mixta   \n",
       "4    Asociación de Nigerianos en el Río de la Plata,       Mixta   \n",
       "5    Asociación de Amigos de las Islas de Cabo Verde       Mixta   \n",
       "6  Asociación de Mujeres Afrodescendientes en la ...  Feminista    \n",
       "\n",
       "                    Ciudad                                           geocoder  \\\n",
       "0  Buenos Aires, Argentina  [[Ciudad Autónoma de Buenos Aires, Comuna 6, A...   \n",
       "1  Buenos Aires, Argentina  [[Ciudad Autónoma de Buenos Aires, Comuna 6, A...   \n",
       "4  Buenos Aires, Argentina  [[Ciudad Autónoma de Buenos Aires, Comuna 6, A...   \n",
       "5  Buenos Aires, Argentina  [[Ciudad Autónoma de Buenos Aires, Comuna 6, A...   \n",
       "6  Buenos Aires, Argentina  [[Ciudad Autónoma de Buenos Aires, Comuna 6, A...   \n",
       "\n",
       "         lat        lng  \n",
       "0 -34.607568 -58.437089  \n",
       "1 -34.607568 -58.437089  \n",
       "4 -34.607568 -58.437089  \n",
       "5 -34.607568 -58.437089  \n",
       "6 -34.607568 -58.437089  "
      ]
     },
     "execution_count": 150,
     "metadata": {},
     "output_type": "execute_result"
    }
   ],
   "source": [
    "file_name.head()"
   ]
  },
  {
   "cell_type": "code",
   "execution_count": 113,
   "metadata": {},
   "outputs": [],
   "source": [
    "file_name.rename(columns={\"ORGANIZACIÓN \": \"Org\", \"TIPO ORGANIZACIÓN \": \"Tipo_org\", 'ZONA GEOGRAFICA':'Ciudad'}, inplace = True)"
   ]
  },
  {
   "cell_type": "code",
   "execution_count": 114,
   "metadata": {},
   "outputs": [
    {
     "data": {
      "text/plain": [
       "Mixta         43\n",
       "Feminista      2\n",
       "Name: Tipo_org, dtype: int64"
      ]
     },
     "execution_count": 114,
     "metadata": {},
     "output_type": "execute_result"
    }
   ],
   "source": [
    "file_name[\"Tipo_org\"].value_counts()"
   ]
  },
  {
   "cell_type": "code",
   "execution_count": 123,
   "metadata": {},
   "outputs": [
    {
     "data": {
      "text/plain": [
       "Buenos Aires, Argentina           37\n",
       "Santiago del Estero, Argentina     2\n",
       "Córdoba, Argentina                 1\n",
       "Chaco, Argentina                   1\n",
       "Santa Fe, Argentina                1\n",
       "Corrientes, Argentina              1\n",
       "Mar del Plata, Argentina           1\n",
       "Salta, Argentina                   1\n",
       "Name: Ciudad, dtype: int64"
      ]
     },
     "execution_count": 123,
     "metadata": {},
     "output_type": "execute_result"
    }
   ],
   "source": [
    "file_name[\"Ciudad\"].value_counts()"
   ]
  },
  {
   "cell_type": "code",
   "execution_count": 73,
   "metadata": {},
   "outputs": [],
   "source": [
    "#argentina[\"Ciudad\"]= argentina[\"Ciudad\"].str.replace('Buenos Aires ', \"Buenos Aires, Argentina\", case = False)"
   ]
  },
  {
   "cell_type": "code",
   "execution_count": 122,
   "metadata": {
    "scrolled": true
   },
   "outputs": [
    {
     "data": {
      "text/plain": [
       "Index(['Buenos Aires, Argentina', 'Santiago del Estero, Argentina',\n",
       "       'Córdoba, Argentina', 'Chaco, Argentina', 'Santa Fe, Argentina',\n",
       "       'Corrientes, Argentina', 'Mar del Plata, Argentina',\n",
       "       'Salta, Argentina'],\n",
       "      dtype='object')"
      ]
     },
     "execution_count": 122,
     "metadata": {},
     "output_type": "execute_result"
    }
   ],
   "source": [
    "file_name[\"Ciudad\"].value_counts().index"
   ]
  },
  {
   "cell_type": "code",
   "execution_count": 118,
   "metadata": {},
   "outputs": [],
   "source": [
    "pais = file_name\n",
    "def ciudadClean(ciudad):\n",
    "    ciudad = ciudad.strip()\n",
    "    if pais not in ciudad:\n",
    "        ciudad = ciudad + \", \" + pais\n",
    "    return ciudad   "
   ]
  },
  {
   "cell_type": "code",
   "execution_count": 119,
   "metadata": {},
   "outputs": [],
   "source": [
    "argentina[\"Ciudad\"]= argentina[\"Ciudad\"].apply(ciudadClean)"
   ]
  },
  {
   "cell_type": "code",
   "execution_count": 128,
   "metadata": {},
   "outputs": [],
   "source": [
    "argentina[\"geocoder\"] = argentina[\"Ciudad\"].apply(geocoder.osm)"
   ]
  },
  {
   "cell_type": "code",
   "execution_count": 140,
   "metadata": {},
   "outputs": [],
   "source": [
    "def ciudadLat(geocoder):\n",
    "    lat = geocoder.lat\n",
    "    return lat   "
   ]
  },
  {
   "cell_type": "code",
   "execution_count": 145,
   "metadata": {},
   "outputs": [],
   "source": [
    "def ciudadLng(geocoder):\n",
    "    lng = geocoder.lng\n",
    "    return lng"
   ]
  },
  {
   "cell_type": "code",
   "execution_count": 141,
   "metadata": {},
   "outputs": [],
   "source": [
    "argentina[\"lat\"] = argentina[\"geocoder\"].apply(ciudadLat)"
   ]
  },
  {
   "cell_type": "code",
   "execution_count": 146,
   "metadata": {},
   "outputs": [],
   "source": [
    "argentina[\"lng\"] = argentina[\"geocoder\"].apply(ciudadLng)"
   ]
  },
  {
   "cell_type": "code",
   "execution_count": 149,
   "metadata": {},
   "outputs": [],
   "source": [
    "argentina.to_csv(\"Argentina_clean.csv\", index=False)"
   ]
  }
 ],
 "metadata": {
  "kernelspec": {
   "display_name": "Python 3",
   "language": "python",
   "name": "python3"
  }
 },
 "nbformat": 4,
 "nbformat_minor": 4
}
